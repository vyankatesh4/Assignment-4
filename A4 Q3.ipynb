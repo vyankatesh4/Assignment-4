{
 "cells": [
  {
   "cell_type": "code",
   "execution_count": 9,
   "id": "568e8d7b",
   "metadata": {},
   "outputs": [
    {
     "name": "stdout",
     "output_type": "stream",
     "text": [
      "Sample list:[4, 5, 2, 9]\n",
      "Squared_numbers_are:\n",
      "[16, 25, 4, 81]\n"
     ]
    }
   ],
   "source": [
    "#Write a Python program to square the elements of a list using map() function.\n",
    "\n",
    "\n",
    "\n",
    "#Sample List: [4, 5, 2, 9]\n",
    "\n",
    "#Square the elements of the list:\n",
    "\n",
    "#[16, 25, 4, 81]\n",
    "\n",
    "def square_num(a):\n",
    "    return a**2\n",
    "print(\"Sample list:[4, 5, 2, 9]\")\n",
    "print(\"Squared_numbers_are:\")\n",
    "print(list(map(square_num,[4, 5, 2, 9])))"
   ]
  },
  {
   "cell_type": "code",
   "execution_count": null,
   "id": "251ea27e",
   "metadata": {},
   "outputs": [],
   "source": []
  }
 ],
 "metadata": {
  "kernelspec": {
   "display_name": "Python 3 (ipykernel)",
   "language": "python",
   "name": "python3"
  },
  "language_info": {
   "codemirror_mode": {
    "name": "ipython",
    "version": 3
   },
   "file_extension": ".py",
   "mimetype": "text/x-python",
   "name": "python",
   "nbconvert_exporter": "python",
   "pygments_lexer": "ipython3",
   "version": "3.10.0"
  }
 },
 "nbformat": 4,
 "nbformat_minor": 5
}
